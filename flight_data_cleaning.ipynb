{
  "cells": [
    {
      "attachments": {},
      "cell_type": "markdown",
      "metadata": {},
      "source": [
        "#### Import Libraries"
      ]
    },
    {
      "cell_type": "code",
      "execution_count": null,
      "metadata": {},
      "outputs": [],
      "source": [
        "from pyspark.sql import SparkSession\n",
        "\n",
        "from pyspark.sql.functions import count_distinct,lit, col, udf, regexp_replace\n",
        "\n",
        "from pyspark.sql.types import IntegerType\n",
        "\n",
        "import matplotlib.pyplot as plt                                                                              \n",
        "\n",
        "import os\n",
        "\n",
        "spark = SparkSession.builder.config(\"spark.driver.memory\", \"20g\").appName(\"project\").getOrCreate()"
      ]
    },
    {
      "attachments": {},
      "cell_type": "markdown",
      "metadata": {},
      "source": [
        "#### Merge data files and Save to Parquet file"
      ]
    },
    {
      "cell_type": "code",
      "execution_count": 9,
      "metadata": {
        "id": "FEl3tSwhD5gZ"
      },
      "outputs": [],
      "source": [
        "# create a SparkSession\n",
        "spark = SparkSession.builder.appName(\"Merged_csv\").getOrCreate()\n",
        "\n",
        "# define the path to the CSV files\n",
        "path = r\"2004_2008\"\n",
        "\n",
        "# load each CSV file and add a column for the year\n",
        "dfs = []\n",
        "for year in range(2004, 2009):\n",
        "    filename = f\"{year}.csv\"\n",
        "    files_path = os.path.join(path, filename)\n",
        "    df = spark.read.csv(files_path, header=True, inferSchema=True)\n",
        "    df = df.withColumn(\"year\", lit(year))\n",
        "    dfs.append(df)\n",
        "\n",
        "# union all the dataframes together\n",
        "merged_df = dfs[0]\n",
        "for df in dfs[1:]:\n",
        "    merged_df = merged_df.union(df)\n"
      ]
    },
    {
      "cell_type": "code",
      "execution_count": 10,
      "metadata": {
        "colab": {
          "base_uri": "https://localhost:8080/"
        },
        "id": "KvrroTpPKWjg",
        "outputId": "c0ca5da7-28af-4dfd-86fb-19aabc0ed8ed"
      },
      "outputs": [
        {
          "name": "stdout",
          "output_type": "stream",
          "text": [
            "+----+-----+----------+---------+-------+----------+-------+----------+-------------+---------+-------+-----------------+--------------+-------+--------+--------+------+----+--------+------+-------+---------+----------------+--------+------------+------------+--------+-------------+-----------------+\n",
            "|year|Month|DayofMonth|DayOfWeek|DepTime|CRSDepTime|ArrTime|CRSArrTime|UniqueCarrier|FlightNum|TailNum|ActualElapsedTime|CRSElapsedTime|AirTime|ArrDelay|DepDelay|Origin|Dest|Distance|TaxiIn|TaxiOut|Cancelled|CancellationCode|Diverted|CarrierDelay|WeatherDelay|NASDelay|SecurityDelay|LateAircraftDelay|\n",
            "+----+-----+----------+---------+-------+----------+-------+----------+-------------+---------+-------+-----------------+--------------+-------+--------+--------+------+----+--------+------+-------+---------+----------------+--------+------------+------------+--------+-------------+-----------------+\n",
            "|2004|    1|        12|        1|    623|       630|    901|       915|           UA|      462| N805UA|               98|           105|     80|     -14|      -7|   ORD| CLT|     599|     7|     11|        0|            null|       0|           0|           0|       0|            0|                0|\n",
            "|2004|    1|        13|        2|    621|       630|    911|       915|           UA|      462| N851UA|              110|           105|     78|      -4|      -9|   ORD| CLT|     599|    16|     16|        0|            null|       0|           0|           0|       0|            0|                0|\n",
            "|2004|    1|        14|        3|    633|       630|    920|       915|           UA|      462| N436UA|              107|           105|     88|       5|       3|   ORD| CLT|     599|     4|     15|        0|            null|       0|           0|           0|       0|            0|                0|\n",
            "|2004|    1|        15|        4|    627|       630|    859|       915|           UA|      462| N828UA|               92|           105|     78|     -16|      -3|   ORD| CLT|     599|     4|     10|        0|            null|       0|           0|           0|       0|            0|                0|\n",
            "|2004|    1|        16|        5|    635|       630|    918|       915|           UA|      462| N831UA|              103|           105|     87|       3|       5|   ORD| CLT|     599|     3|     13|        0|            null|       0|           0|           0|       0|            0|                0|\n",
            "|2004|    1|        17|        6|    628|       630|    905|       915|           UA|      462| N834UA|               97|           105|     81|     -10|      -2|   ORD| CLT|     599|     5|     11|        0|            null|       0|           0|           0|       0|            0|                0|\n",
            "|2004|    1|        19|        1|    650|       630|    944|       915|           UA|      462| N840UA|              114|           105|    100|      29|      20|   ORD| CLT|     599|     3|     11|        0|            null|       0|          20|           0|       9|            0|                0|\n",
            "|2004|    1|        20|        2|    627|       630|    904|       915|           UA|      462| N454UA|               97|           105|     84|     -11|      -3|   ORD| CLT|     599|     3|     10|        0|            null|       0|           0|           0|       0|            0|                0|\n",
            "|2004|    1|        21|        3|    623|       630|    903|       915|           UA|      462| N808UA|              100|           105|     76|     -12|      -7|   ORD| CLT|     599|    16|      8|        0|            null|       0|           0|           0|       0|            0|                0|\n",
            "|2004|    1|        22|        4|    626|       630|    901|       915|           UA|      462| N832UA|               95|           105|     77|     -14|      -4|   ORD| CLT|     599|     4|     14|        0|            null|       0|           0|           0|       0|            0|                0|\n",
            "|2004|    1|        23|        5|    631|       630|    923|       915|           UA|      462| N848UA|              112|           105|     88|       8|       1|   ORD| CLT|     599|     3|     21|        0|            null|       0|           0|           0|       0|            0|                0|\n",
            "|2004|    1|        24|        6|    628|       630|    901|       915|           UA|      462| N472UA|               93|           105|     70|     -14|      -2|   ORD| CLT|     599|    10|     13|        0|            null|       0|           0|           0|       0|            0|                0|\n",
            "|2004|    1|        26|        1|     NA|       630|     NA|       915|           UA|      462|      0|               NA|           105|     NA|      NA|      NA|   ORD| CLT|     599|     0|      0|        1|               B|       0|           0|           0|       0|            0|                0|\n",
            "|2004|    1|        27|        2|    625|       630|    939|       915|           UA|      462| N819UA|              134|           105|     88|      24|      -5|   ORD| CLT|     599|     4|     42|        0|            null|       0|           0|           0|      24|            0|                0|\n",
            "|2004|    1|        28|        3|    628|       630|    906|       915|           UA|      462| N820UA|               98|           105|     82|      -9|      -2|   ORD| CLT|     599|     3|     13|        0|            null|       0|           0|           0|       0|            0|                0|\n",
            "|2004|    1|        29|        4|    624|       630|    859|       915|           UA|      462| N820UA|               95|           105|     82|     -16|      -6|   ORD| CLT|     599|     3|     10|        0|            null|       0|           0|           0|       0|            0|                0|\n",
            "|2004|    1|        30|        5|    627|       630|    904|       915|           UA|      462| N428UA|               97|           105|     81|     -11|      -3|   ORD| CLT|     599|     7|      9|        0|            null|       0|           0|           0|       0|            0|                0|\n",
            "|2004|    1|        31|        6|    630|       630|    910|       915|           UA|      462| N830UA|              100|           105|     82|      -5|       0|   ORD| CLT|     599|     3|     15|        0|            null|       0|           0|           0|       0|            0|                0|\n",
            "|2004|    1|         1|        4|   1510|      1505|   1753|      1725|           UA|      463| N844UA|              283|           260|    248|      28|       5|   ORD| PDX|    1739|     6|     29|        0|            null|       0|           0|           0|      28|            0|                0|\n",
            "|2004|    1|         2|        5|   1610|      1505|   1832|      1725|           UA|      463| N827UA|              262|           260|    247|      67|      65|   ORD| PDX|    1739|     2|     13|        0|            null|       0|           9|           0|       2|            0|               56|\n",
            "|2004|    1|         3|        6|   1523|      1505|   1806|      1725|           UA|      463| N827UA|              283|           260|    257|      41|      18|   ORD| PDX|    1739|     6|     20|        0|            null|       0|          18|           0|      23|            0|                0|\n",
            "|2004|    1|         4|        7|     NA|      1505|     NA|      1725|           UA|      463|      0|               NA|           260|     NA|      NA|      NA|   ORD| PDX|    1739|     0|      0|        1|               C|       0|           0|           0|       0|            0|                0|\n",
            "|2004|    1|         5|        1|   1622|      1505|   1855|      1725|           UA|      463| N819UA|              273|           260|    250|      90|      77|   ORD| PDX|    1739|     3|     20|        0|            null|       0|           8|           0|      13|            0|               69|\n",
            "|2004|    1|         6|        2|     NA|      1505|     NA|      1725|           UA|      463|      0|               NA|           260|     NA|      NA|      NA|   ORD| PDX|    1739|     0|      0|        1|               B|       0|           0|           0|       0|            0|                0|\n",
            "|2004|    1|         7|        3|     NA|      1510|     NA|      1732|           UA|      463|      0|               NA|           262|     NA|      NA|      NA|   ORD| PDX|    1739|     0|      0|        1|               C|       0|           0|           0|       0|            0|                0|\n",
            "|2004|    1|         8|        4|     NA|      1510|     NA|      1732|           UA|      463|      0|               NA|           262|     NA|      NA|      NA|   ORD| PDX|    1739|     0|      0|        1|               B|       0|           0|           0|       0|            0|                0|\n",
            "|2004|    1|         9|        5|   1509|      1510|   1742|      1732|           UA|      463| N502UA|              273|           262|    233|      10|      -1|   ORD| PDX|    1739|     7|     33|        0|            null|       0|           0|           0|       0|            0|                0|\n",
            "|2004|    1|        10|        6|   1554|      1520|   1831|      1744|           UA|      463| N805UA|              277|           264|    248|      47|      34|   ORD| PDX|    1739|     4|     25|        0|            null|       0|           7|           0|      13|            0|               27|\n",
            "|2004|    1|        11|        7|   1513|      1510|   1755|      1732|           UA|      463| N580UA|              282|           262|    250|      23|       3|   ORD| PDX|    1739|     3|     29|        0|            null|       0|           0|           0|      20|            0|                3|\n",
            "|2004|    1|        12|        1|   1511|      1510|   1736|      1732|           UA|      463| N514UA|              265|           262|    240|       4|       1|   ORD| PDX|    1739|     5|     20|        0|            null|       0|           0|           0|       0|            0|                0|\n",
            "+----+-----+----------+---------+-------+----------+-------+----------+-------------+---------+-------+-----------------+--------------+-------+--------+--------+------+----+--------+------+-------+---------+----------------+--------+------------+------------+--------+-------------+-----------------+\n",
            "only showing top 30 rows\n",
            "\n"
          ]
        }
      ],
      "source": [
        "merged_df.show(n=30)"
      ]
    },
    {
      "cell_type": "code",
      "execution_count": 11,
      "metadata": {
        "colab": {
          "base_uri": "https://localhost:8080/"
        },
        "id": "4AgTA9fiMqkR",
        "outputId": "f7b5c470-a4e0-4888-b8b7-1dbacf77aeec"
      },
      "outputs": [
        {
          "data": {
            "text/plain": [
              "[Row(year=2008, Month=4, DayofMonth=17, DayOfWeek=4, DepTime='1025', CRSDepTime=1025, ArrTime='1234', CRSArrTime=1237, UniqueCarrier='DL', FlightNum=1207, TailNum='N393DA', ActualElapsedTime='129', CRSElapsedTime='132', AirTime='108', ArrDelay='-3', DepDelay='0', Origin='BOS', Dest='CVG', Distance=752, TaxiIn='5', TaxiOut='16', Cancelled=0, CancellationCode=None, Diverted=0, CarrierDelay='NA', WeatherDelay='NA', NASDelay='NA', SecurityDelay='NA', LateAircraftDelay='NA'),\n",
              " Row(year=2008, Month=4, DayofMonth=17, DayOfWeek=4, DepTime='1319', CRSDepTime=1320, ArrTime='1527', CRSArrTime=1524, UniqueCarrier='DL', FlightNum=1208, TailNum='N952DL', ActualElapsedTime='128', CRSElapsedTime='124', AirTime='107', ArrDelay='3', DepDelay='-1', Origin='CVG', Dest='BOS', Distance=752, TaxiIn='9', TaxiOut='12', Cancelled=0, CancellationCode=None, Diverted=0, CarrierDelay='NA', WeatherDelay='NA', NASDelay='NA', SecurityDelay='NA', LateAircraftDelay='NA'),\n",
              " Row(year=2008, Month=4, DayofMonth=17, DayOfWeek=4, DepTime='1335', CRSDepTime=1335, ArrTime='1556', CRSArrTime=1553, UniqueCarrier='DL', FlightNum=1209, TailNum='N392DA', ActualElapsedTime='141', CRSElapsedTime='138', AirTime='103', ArrDelay='3', DepDelay='0', Origin='BOS', Dest='CVG', Distance=752, TaxiIn='7', TaxiOut='31', Cancelled=0, CancellationCode=None, Diverted=0, CarrierDelay='NA', WeatherDelay='NA', NASDelay='NA', SecurityDelay='NA', LateAircraftDelay='NA'),\n",
              " Row(year=2008, Month=4, DayofMonth=17, DayOfWeek=4, DepTime='1933', CRSDepTime=1935, ArrTime='2140', CRSArrTime=2141, UniqueCarrier='DL', FlightNum=1210, TailNum='N3756', ActualElapsedTime='127', CRSElapsedTime='126', AirTime='106', ArrDelay='-1', DepDelay='-2', Origin='CVG', Dest='BOS', Distance=752, TaxiIn='9', TaxiOut='12', Cancelled=0, CancellationCode=None, Diverted=0, CarrierDelay='NA', WeatherDelay='NA', NASDelay='NA', SecurityDelay='NA', LateAircraftDelay='NA'),\n",
              " Row(year=2008, Month=4, DayofMonth=17, DayOfWeek=4, DepTime='621', CRSDepTime=615, ArrTime='752', CRSArrTime=754, UniqueCarrier='DL', FlightNum=1211, TailNum='N951DL', ActualElapsedTime='91', CRSElapsedTime='99', AirTime='64', ArrDelay='-2', DepDelay='6', Origin='BWI', Dest='CVG', Distance=430, TaxiIn='15', TaxiOut='12', Cancelled=0, CancellationCode=None, Diverted=0, CarrierDelay='NA', WeatherDelay='NA', NASDelay='NA', SecurityDelay='NA', LateAircraftDelay='NA')]"
            ]
          },
          "execution_count": 11,
          "metadata": {},
          "output_type": "execute_result"
        }
      ],
      "source": [
        "merged_df.tail(5)"
      ]
    },
    {
      "cell_type": "code",
      "execution_count": 12,
      "metadata": {
        "colab": {
          "base_uri": "https://localhost:8080/"
        },
        "id": "yy3qpehkMS70",
        "outputId": "c37e33d7-e9aa-4787-b933-1bee2ddcd00c"
      },
      "outputs": [
        {
          "data": {
            "text/plain": [
              "25173525"
            ]
          },
          "execution_count": 12,
          "metadata": {},
          "output_type": "execute_result"
        }
      ],
      "source": [
        "merged_df.count()"
      ]
    },
    {
      "cell_type": "code",
      "execution_count": 13,
      "metadata": {
        "id": "ZgsH8ItqGeTc"
      },
      "outputs": [],
      "source": [
        "# write the merged dataframe to parquet format\n",
        "parquet_path = '2004_2008_data.parquet'\n",
        "\n",
        "merged_df.write.parquet(parquet_path)\n",
        "\n",
        "# stop the SparkSession\n",
        "spark.stop()\n"
      ]
    },
    {
      "attachments": {},
      "cell_type": "markdown",
      "metadata": {
        "id": "KMhrRgrkN38a"
      },
      "source": [
        "#### To load the parquet file into a dataframe use this code "
      ]
    },
    {
      "cell_type": "code",
      "execution_count": 3,
      "metadata": {
        "colab": {
          "base_uri": "https://localhost:8080/"
        },
        "id": "vr9smmulN0X4",
        "outputId": "6cc18fdc-d444-4b6f-db8a-5bee6f1d4615"
      },
      "outputs": [
        {
          "name": "stdout",
          "output_type": "stream",
          "text": [
            "23/04/11 15:15:57 WARN Utils: Your hostname, mbzuai-metaverse-06 resolves to a loopback address: 127.0.1.1; using 10.127.94.181 instead (on interface eno2)\n",
            "23/04/11 15:15:57 WARN Utils: Set SPARK_LOCAL_IP if you need to bind to another address\n"
          ]
        },
        {
          "name": "stderr",
          "output_type": "stream",
          "text": [
            "Setting default log level to \"WARN\".\n",
            "To adjust logging level use sc.setLogLevel(newLevel). For SparkR, use setLogLevel(newLevel).\n"
          ]
        },
        {
          "name": "stdout",
          "output_type": "stream",
          "text": [
            "23/04/11 15:15:58 WARN NativeCodeLoader: Unable to load native-hadoop library for your platform... using builtin-java classes where applicable\n"
          ]
        },
        {
          "name": "stderr",
          "output_type": "stream",
          "text": [
            "                                                                                \r"
          ]
        },
        {
          "name": "stdout",
          "output_type": "stream",
          "text": [
            "23/04/11 15:16:04 WARN package: Truncated the string representation of a plan since it was too large. This behavior can be adjusted by setting 'spark.sql.debug.maxToStringFields'.\n",
            "+----+-----+----------+---------+-------+----------+-------+----------+-------------+---------+-------+-----------------+--------------+-------+--------+--------+------+----+--------+------+-------+---------+----------------+--------+------------+------------+--------+-------------+-----------------+\n",
            "|year|Month|DayofMonth|DayOfWeek|DepTime|CRSDepTime|ArrTime|CRSArrTime|UniqueCarrier|FlightNum|TailNum|ActualElapsedTime|CRSElapsedTime|AirTime|ArrDelay|DepDelay|Origin|Dest|Distance|TaxiIn|TaxiOut|Cancelled|CancellationCode|Diverted|CarrierDelay|WeatherDelay|NASDelay|SecurityDelay|LateAircraftDelay|\n",
            "+----+-----+----------+---------+-------+----------+-------+----------+-------------+---------+-------+-----------------+--------------+-------+--------+--------+------+----+--------+------+-------+---------+----------------+--------+------------+------------+--------+-------------+-----------------+\n",
            "|2006|    3|        12|        7|   1836|      1836|   2212|      2210|           EV|     4499| N754EV|              156|           154|    138|       2|       0|   MSP| ATL|     906|     9|      9|        0|            null|       0|           0|           0|       0|            0|                0|\n",
            "|2006|    3|        13|        1|   1955|      1836|   2315|      2210|           EV|     4499| N760EV|              140|           154|    113|      65|      79|   MSP| ATL|     906|     7|     20|        0|            null|       0|           0|          65|       0|            0|                0|\n",
            "|2006|    3|        14|        2|   1920|      1836|   2238|      2210|           EV|     4499| N706EV|              138|           154|    107|      28|      44|   MSP| ATL|     906|     9|     22|        0|            null|       0|          28|           0|       0|            0|                0|\n",
            "|2006|    3|        15|        3|   1839|      1836|   2204|      2210|           EV|     4499| N709EV|              145|           154|    108|      -6|       3|   MSP| ATL|     906|    16|     21|        0|            null|       0|           0|           0|       0|            0|                0|\n",
            "|2006|    3|        16|        4|   1855|      1836|   2207|      2210|           EV|     4499| N748EV|              132|           154|    126|      -3|      19|   MSP| ATL|     906|     6|      0|        0|            null|       0|           0|           0|       0|            0|                0|\n",
            "|2006|    3|        17|        5|   1850|      1836|   2211|      2210|           EV|     4499| N709EV|              141|           154|    120|       1|      14|   MSP| ATL|     906|     6|     15|        0|            null|       0|           0|           0|       0|            0|                0|\n",
            "|2006|    3|        19|        7|     NA|      1836|     NA|      2210|           EV|     4499| N738EV|               NA|           154|     NA|      NA|      NA|   MSP| ATL|     906|     0|      0|        1|               A|       0|           0|           0|       0|            0|                0|\n",
            "|2006|    3|        20|        1|   1946|      1836|   2335|      2210|           EV|     4499| N713EV|              169|           154|    152|      85|      70|   MSP| ATL|     906|     8|      9|        0|            null|       0|           0|           0|      85|            0|                0|\n",
            "|2006|    3|        21|        2|   1948|      1836|   2300|      2210|           EV|     4499| N703EV|              132|           154|    118|      50|      72|   MSP| ATL|     906|     7|      7|        0|            null|       0|           0|          50|       0|            0|                0|\n",
            "|2006|    3|        22|        3|   1828|      1836|   2152|      2210|           EV|     4499| N740EV|              144|           154|    111|     -18|      -8|   MSP| ATL|     906|    16|     17|        0|            null|       0|           0|           0|       0|            0|                0|\n",
            "|2006|    3|        23|        4|   1905|      1836|   2225|      2210|           EV|     4499| N758EV|              140|           154|     98|      15|      29|   MSP| ATL|     906|    17|     25|        0|            null|       0|           0|           0|      15|            0|                0|\n",
            "|2006|    3|        24|        5|   1836|      1836|   2152|      2210|           EV|     4499| N708EV|              136|           154|    104|     -18|       0|   MSP| ATL|     906|    12|     20|        0|            null|       0|           0|           0|       0|            0|                0|\n",
            "|2006|    3|        26|        7|   1920|      1836|   2230|      2210|           EV|     4499| N710EV|              130|           154|    125|      20|      44|   MSP| ATL|     906|     5|      0|        0|            null|       0|           0|          20|       0|            0|                0|\n",
            "|2006|    3|        27|        1|   1836|      1836|   2145|      2210|           EV|     4499| N718EV|              129|           154|    107|     -25|       0|   MSP| ATL|     906|     8|     14|        0|            null|       0|           0|           0|       0|            0|                0|\n",
            "|2006|    3|        28|        2|   1845|      1836|   2210|      2210|           EV|     4499| N752EV|              145|           154|    127|       0|       9|   MSP| ATL|     906|    13|      5|        0|            null|       0|           0|           0|       0|            0|                0|\n",
            "|2006|    3|        29|        3|   1826|      1836|   2152|      2210|           EV|     4499| N701EV|              146|           154|    109|     -18|     -10|   MSP| ATL|     906|    23|     14|        0|            null|       0|           0|           0|       0|            0|                0|\n",
            "|2006|    3|        30|        4|   1830|      1836|   2202|      2210|           EV|     4499| N759EV|              152|           154|    127|      -8|      -6|   MSP| ATL|     906|     8|     17|        0|            null|       0|           0|           0|       0|            0|                0|\n",
            "|2006|    3|        31|        5|   1836|      1836|   2144|      2210|           EV|     4499| N724EV|              128|           154|    110|     -26|       0|   MSP| ATL|     906|     7|     11|        0|            null|       0|           0|           0|       0|            0|                0|\n",
            "|2006|    3|         1|        3|   2110|      2108|   2147|      2202|           EV|     4500| N854AS|               97|           114|     79|     -15|       2|   ATL| SHV|     552|     3|     15|        0|            null|       0|           0|           0|       0|            0|                0|\n",
            "|2006|    3|         2|        4|   2152|      2108|   2222|      2202|           EV|     4500| N904EV|               90|           114|     81|      20|      44|   ATL| SHV|     552|     2|      7|        0|            null|       0|           0|          20|       0|            0|                0|\n",
            "+----+-----+----------+---------+-------+----------+-------+----------+-------------+---------+-------+-----------------+--------------+-------+--------+--------+------+----+--------+------+-------+---------+----------------+--------+------------+------------+--------+-------------+-----------------+\n",
            "only showing top 20 rows\n",
            "\n"
          ]
        }
      ],
      "source": [
        "# load the Parquet file as a DataFrame\n",
        "df = spark.read.parquet(\"2004_2008_data.parquet\")\n",
        "\n",
        "# show the first 20 rows of the DataFrame\n",
        "df.show(5)\n",
        "\n"
      ]
    },
    {
      "cell_type": "code",
      "execution_count": 12,
      "metadata": {
        "colab": {
          "base_uri": "https://localhost:8080/"
        },
        "id": "BP482YlSPSYq",
        "outputId": "400c2051-3880-4ad1-e06b-c59421e9b613"
      },
      "outputs": [
        {
          "name": "stdout",
          "output_type": "stream",
          "text": [
            "The combined dataset has a total of 25173525 rows and 29 columns.\n"
          ]
        }
      ],
      "source": [
        "print(f'The combined dataset has a total of {df.count()} rows and {len(df.columns)} columns.')"
      ]
    },
    {
      "cell_type": "code",
      "execution_count": 6,
      "metadata": {
        "id": "U5OOm0ZMPetG"
      },
      "outputs": [],
      "source": [
        "# stop the SparkSession\n",
        "spark.stop()"
      ]
    },
    {
      "attachments": {},
      "cell_type": "markdown",
      "metadata": {},
      "source": [
        "#### Data Description"
      ]
    },
    {
      "cell_type": "code",
      "execution_count": 33,
      "metadata": {
        "id": "qxoD1vaLPUsA"
      },
      "outputs": [],
      "source": [
        "# load the Parquet file as a DataFrame\n",
        "df = spark.read.parquet(\"2004_2008_data.parquet\")"
      ]
    },
    {
      "cell_type": "code",
      "execution_count": 21,
      "metadata": {},
      "outputs": [
        {
          "name": "stdout",
          "output_type": "stream",
          "text": [
            "Data Schema\n",
            "root\n",
            " |-- year: integer (nullable = true)\n",
            " |-- Month: integer (nullable = true)\n",
            " |-- DayofMonth: integer (nullable = true)\n",
            " |-- DayOfWeek: integer (nullable = true)\n",
            " |-- DepTime: string (nullable = true)\n",
            " |-- CRSDepTime: integer (nullable = true)\n",
            " |-- ArrTime: string (nullable = true)\n",
            " |-- CRSArrTime: integer (nullable = true)\n",
            " |-- UniqueCarrier: string (nullable = true)\n",
            " |-- FlightNum: integer (nullable = true)\n",
            " |-- TailNum: string (nullable = true)\n",
            " |-- ActualElapsedTime: string (nullable = true)\n",
            " |-- CRSElapsedTime: string (nullable = true)\n",
            " |-- AirTime: string (nullable = true)\n",
            " |-- ArrDelay: string (nullable = true)\n",
            " |-- DepDelay: string (nullable = true)\n",
            " |-- Origin: string (nullable = true)\n",
            " |-- Dest: string (nullable = true)\n",
            " |-- Distance: integer (nullable = true)\n",
            " |-- TaxiIn: string (nullable = true)\n",
            " |-- TaxiOut: string (nullable = true)\n",
            " |-- Cancelled: integer (nullable = true)\n",
            " |-- CancellationCode: string (nullable = true)\n",
            " |-- Diverted: integer (nullable = true)\n",
            " |-- CarrierDelay: string (nullable = true)\n",
            " |-- WeatherDelay: string (nullable = true)\n",
            " |-- NASDelay: string (nullable = true)\n",
            " |-- SecurityDelay: string (nullable = true)\n",
            " |-- LateAircraftDelay: string (nullable = true)\n",
            "\n"
          ]
        }
      ],
      "source": [
        "print('Data Schema')\n",
        "df.printSchema()"
      ]
    },
    {
      "cell_type": "code",
      "execution_count": 22,
      "metadata": {},
      "outputs": [
        {
          "name": "stdout",
          "output_type": "stream",
          "text": [
            "Data Statistics\n"
          ]
        },
        {
          "name": "stderr",
          "output_type": "stream",
          "text": [
            "[Stage 5:======================================================>  (23 + 1) / 24]\r"
          ]
        },
        {
          "name": "stdout",
          "output_type": "stream",
          "text": [
            "+-------+------------------+-----------------+-----------------+------------------+------------------+------------------+------------------+------------------+-------------+------------------+--------+------------------+------------------+-----------------+-----------------+------------------+--------+--------+-----------------+-----------------+------------------+--------------------+----------------+--------------------+------------------+-----------------+------------------+--------------------+------------------+\n",
            "|summary|              year|            Month|       DayofMonth|         DayOfWeek|           DepTime|        CRSDepTime|           ArrTime|        CRSArrTime|UniqueCarrier|         FlightNum| TailNum| ActualElapsedTime|    CRSElapsedTime|          AirTime|         ArrDelay|          DepDelay|  Origin|    Dest|         Distance|           TaxiIn|           TaxiOut|           Cancelled|CancellationCode|            Diverted|      CarrierDelay|     WeatherDelay|          NASDelay|       SecurityDelay| LateAircraftDelay|\n",
            "+-------+------------------+-----------------+-----------------+------------------+------------------+------------------+------------------+------------------+-------------+------------------+--------+------------------+------------------+-----------------+-----------------+------------------+--------+--------+-----------------+-----------------+------------------+--------------------+----------------+--------------------+------------------+-----------------+------------------+--------------------+------------------+\n",
            "|  count|          25173525|         25173525|         25173525|          25173525|          25173525|          25173525|          25173525|          25173525|     25173525|          25173525|25130924|          25173525|          25173525|         25173525|         25173525|          25173525|25173525|25173525|         25173525|         25173525|          25173525|            25173525|          506400|            25173525|          25173525|         25173525|          25173525|            25173525|          25173525|\n",
            "|   mean| 2006.118930622549|5.927062419744553|15.71943091005332|3.9435508535256782|  1341.61600041156|1333.6417076670828|1487.4504831636748|1497.3441344428322|         null|2147.3249999751724|     0.0|125.85511358938541|126.87425651871992|102.6283346159489|8.781417970006826|10.107390045569959|    null|    null|722.9802264482229|7.126539565570902|15.903850929163761|0.020116253087320905|            null|0.002171368531026...|3.7041035451789304|0.766133874303235|3.9036162220962902|0.026080184977541297| 4.789672603633608|\n",
            "| stddev|1.0544378873486269|3.533172512418929|8.774905273444974|1.9898690255092581|477.60550739777176|463.85356877965586| 502.7156434306264|480.39358043217584|         null|1940.5257381464185|     0.0| 70.98669697019571| 70.03655451526528|75.69926285737513|36.92644681632995|33.819261751271306|    null|    null|567.7229804165946|30.77855619671011|11.511330046822875| 0.14039797089729053|            null| 0.04654732834220832|19.943756959730283|9.262490471182385| 16.19243491157815|    1.14684937959051|20.315991217234217|\n",
            "|    min|              2004|                1|                1|                 1|                 1|                 0|                 1|                 0|           9E|                 1|       0|                -1|               -12|               -1|               -1|                -1|     ABE|     ABE|               11|                0|                 0|                   0|               A|                   0|                 0|                0|                -1|                   0|                 0|\n",
            "|    max|              2008|               12|               31|                 7|                NA|              2359|                NA|              2400|           YV|              9741|  n816ca|                NA|                NA|               NA|               NA|                NA|     YUM|     YUM|             4962|               NA|                NA|                   1|               D|                   1|                NA|               NA|                NA|                  NA|                NA|\n",
            "+-------+------------------+-----------------+-----------------+------------------+------------------+------------------+------------------+------------------+-------------+------------------+--------+------------------+------------------+-----------------+-----------------+------------------+--------+--------+-----------------+-----------------+------------------+--------------------+----------------+--------------------+------------------+-----------------+------------------+--------------------+------------------+\n",
            "\n"
          ]
        },
        {
          "name": "stderr",
          "output_type": "stream",
          "text": [
            "                                                                                \r"
          ]
        }
      ],
      "source": [
        "print('Data Statistics')\n",
        "df.describe().show()"
      ]
    },
    {
      "attachments": {},
      "cell_type": "markdown",
      "metadata": {},
      "source": [
        "From the statistics summary, some columns seems to include null values, so we'll be examining those columns further."
      ]
    },
    {
      "attachments": {},
      "cell_type": "markdown",
      "metadata": {},
      "source": [
        "##### Data Pre-Processing"
      ]
    },
    {
      "cell_type": "code",
      "execution_count": 24,
      "metadata": {},
      "outputs": [
        {
          "name": "stdout",
          "output_type": "stream",
          "text": [
            "The column TailNum has 42601 null values,           which is 0.17% of the total.\n",
            "The column CancellationCode has 24667125 null values,           which is 97.99% of the total.\n"
          ]
        }
      ],
      "source": [
        "columns_with_null = [column for column in df.columns if df.where(df[column].isNull()).count() > 0]\n",
        "for column in columns_with_null:\n",
        "    print(f'The column {column} has {df.where(df[column].isNull()).count()} null values, \\\n",
        "          which is {round(df.where(df[column].isNull()).count() / df.count() * 100, 2)}% of the total.')"
      ]
    },
    {
      "cell_type": "code",
      "execution_count": 25,
      "metadata": {},
      "outputs": [
        {
          "name": "stdout",
          "output_type": "stream",
          "text": [
            "Column DepTime has 506397 missing values,which is 2.01% of the total.\n",
            "Column ArrTime has 561058 missing values,which is 2.23% of the total.\n",
            "Column ActualElapsedTime has 561058 missing values,which is 2.23% of the total.\n",
            "Column CRSElapsedTime has 1405 missing values,which is 0.01% of the total.\n",
            "Column AirTime has 561058 missing values,which is 2.23% of the total.\n",
            "Column ArrDelay has 561058 missing values,which is 2.23% of the total.\n",
            "Column DepDelay has 506397 missing values,which is 2.01% of the total.\n",
            "Column TaxiIn has 70096 missing values,which is 0.28% of the total.\n",
            "Column TaxiOut has 64442 missing values,which is 0.26% of the total.\n",
            "Column CarrierDelay has 1804634 missing values,which is 7.17% of the total.\n",
            "Column WeatherDelay has 1804634 missing values,which is 7.17% of the total.\n",
            "Column NASDelay has 1804634 missing values,which is 7.17% of the total.\n",
            "Column SecurityDelay has 1804634 missing values,which is 7.17% of the total.\n",
            "Column LateAircraftDelay has 1804634 missing values,which is 7.17% of the total.\n"
          ]
        }
      ],
      "source": [
        "columns_with_na = [column for column in df.columns if df.where( df[column] == 'NA').count() > 0]\n",
        "for column in columns_with_na:\n",
        "    print(f'Column {column} has {df.where(df[column] == \"NA\").count()} missing values,which is {round(df.where(df[column] == \"NA\").count() / df.count() * 100, 2)}% of the total.')\n"
      ]
    },
    {
      "attachments": {},
      "cell_type": "markdown",
      "metadata": {},
      "source": [
        "Looking at columns that have equal percentage of missing values: these columns have to do with cancellation or delay"
      ]
    },
    {
      "cell_type": "code",
      "execution_count": 7,
      "metadata": {},
      "outputs": [
        {
          "name": "stderr",
          "output_type": "stream",
          "text": [
            "[Stage 312:=========================================>             (18 + 6) / 24]\r"
          ]
        },
        {
          "name": "stdout",
          "output_type": "stream",
          "text": [
            "+-------+-------+-----------------+--------------+-------+--------+--------+------+-------+------------+------------+--------+-------------+-----------------+\n",
            "|DepTime|ArrTime|ActualElapsedTime|CRSElapsedTime|AirTime|ArrDelay|DepDelay|TaxiIn|TaxiOut|CarrierDelay|WeatherDelay|NASDelay|SecurityDelay|LateAircraftDelay|\n",
            "+-------+-------+-----------------+--------------+-------+--------+--------+------+-------+------------+------------+--------+-------------+-----------------+\n",
            "|   1604|   1683|              880|           634|   1549|    1470|    1592|   955|    449|        1258|         794|     724|          245|              700|\n",
            "+-------+-------+-----------------+--------------+-------+--------+--------+------+-------+------------+------------+--------+-------------+-----------------+\n",
            "\n"
          ]
        },
        {
          "name": "stderr",
          "output_type": "stream",
          "text": [
            "                                                                                \r"
          ]
        }
      ],
      "source": [
        "df.select([count_distinct(column).alias(column) for column in columns_with_na]).show()"
      ]
    },
    {
      "cell_type": "code",
      "execution_count": 8,
      "metadata": {},
      "outputs": [
        {
          "name": "stdout",
          "output_type": "stream",
          "text": [
            "+----------------+\n",
            "|CancellationCode|\n",
            "+----------------+\n",
            "|            null|\n",
            "|               B|\n",
            "|               D|\n",
            "|               C|\n",
            "|               A|\n",
            "+----------------+\n",
            "\n"
          ]
        }
      ],
      "source": [
        "df.select('CancellationCode').distinct().show()"
      ]
    },
    {
      "cell_type": "code",
      "execution_count": 40,
      "metadata": {},
      "outputs": [
        {
          "name": "stderr",
          "output_type": "stream",
          "text": [
            "[Stage 341:==================>                                    (8 + 16) / 24]\r"
          ]
        },
        {
          "name": "stdout",
          "output_type": "stream",
          "text": [
            "+--------+\n",
            "|ArrDelay|\n",
            "+--------+\n",
            "|      NA|\n",
            "|     978|\n",
            "|     997|\n",
            "|    1022|\n",
            "|    1002|\n",
            "+--------+\n",
            "only showing top 5 rows\n",
            "\n"
          ]
        },
        {
          "name": "stderr",
          "output_type": "stream",
          "text": [
            "                                                                                \r"
          ]
        }
      ],
      "source": [
        "df.select('ArrDelay').distinct().sort(col('DepDelay').desc()).show(5)"
      ]
    },
    {
      "attachments": {},
      "cell_type": "markdown",
      "metadata": {},
      "source": [
        "Looking at the unique values in CancellationCode, it seems null was used for flights that weren't cancelled.\n",
        "\n",
        "We'll look at how the other missing values relates with whether the fight was cancelled after replacing null with 'NA' in CancellationCode and TailNum."
      ]
    },
    {
      "cell_type": "code",
      "execution_count": 47,
      "metadata": {},
      "outputs": [],
      "source": [
        "df = df.fillna('UNK', subset=['TailNum', 'CancellationCode'])"
      ]
    },
    {
      "cell_type": "code",
      "execution_count": 48,
      "metadata": {},
      "outputs": [
        {
          "name": "stdout",
          "output_type": "stream",
          "text": [
            "+----------------+\n",
            "|CancellationCode|\n",
            "+----------------+\n",
            "|               B|\n",
            "|               D|\n",
            "|               C|\n",
            "|             UNK|\n",
            "|               A|\n",
            "+----------------+\n",
            "\n"
          ]
        }
      ],
      "source": [
        "df.select('CancellationCode').distinct().show()"
      ]
    },
    {
      "attachments": {},
      "cell_type": "markdown",
      "metadata": {},
      "source": [
        "#### Exploring null values in canceled flight\n",
        "\n",
        "ArrTime,AirTime,ArrDelay,ActualElapsedTime will be replaced with 0 since they don't count for canceled flights.\n",
        "\n",
        "\n",
        "Also for canceled flights, it makes sense that some factors that cause delays are not recorded and could be 0 since the flight never took place and since it's same percentage, we replace with 0.\n"
      ]
    },
    {
      "cell_type": "code",
      "execution_count": 11,
      "metadata": {},
      "outputs": [],
      "source": [
        "cancelled_flights = df.where(df['Cancelled'] == 1).select(columns_with_na)"
      ]
    },
    {
      "cell_type": "code",
      "execution_count": 12,
      "metadata": {},
      "outputs": [
        {
          "name": "stdout",
          "output_type": "stream",
          "text": [
            "Cancelled Flights missing Values: \n",
            " \n",
            "\n",
            "Column DepTime has 506397 NA values,which is 100.0% of the total.\n",
            "Column ArrTime has 506397 NA values,which is 100.0% of the total.\n",
            "Column ActualElapsedTime has 506397 NA values,which is 100.0% of the total.\n",
            "Column CRSElapsedTime has 390 NA values,which is 0.08% of the total.\n",
            "Column AirTime has 506397 NA values,which is 100.0% of the total.\n",
            "Column ArrDelay has 506397 NA values,which is 100.0% of the total.\n",
            "Column DepDelay has 506397 NA values,which is 100.0% of the total.\n",
            "Column TaxiIn has 64442 NA values,which is 12.73% of the total.\n",
            "Column TaxiOut has 64442 NA values,which is 12.73% of the total.\n",
            "Column CarrierDelay has 64442 NA values,which is 12.73% of the total.\n",
            "Column WeatherDelay has 64442 NA values,which is 12.73% of the total.\n",
            "Column NASDelay has 64442 NA values,which is 12.73% of the total.\n",
            "Column SecurityDelay has 64442 NA values,which is 12.73% of the total.\n",
            "Column LateAircraftDelay has 64442 NA values,which is 12.73% of the total.\n"
          ]
        }
      ],
      "source": [
        "\n",
        "columns_with_na = [column for column in cancelled_flights.columns if cancelled_flights.where( cancelled_flights[column] == 'NA').count() > 0]\n",
        "print('Cancelled Flights missing Values: \\n \\n') \n",
        "for column in columns_with_na:\n",
        "    print(f'Column {column} has {cancelled_flights.where(cancelled_flights[column] == \"NA\").count()} NA values,which is {round(cancelled_flights.where(cancelled_flights[column] == \"NA\").count() / cancelled_flights.count() * 100, 2)}% of the total.')\n"
      ]
    },
    {
      "cell_type": "code",
      "execution_count": 46,
      "metadata": {},
      "outputs": [],
      "source": [
        "df = df.withColumns({\n",
        "    'ArrDelay': regexp_replace('ArrDelay', 'NA', '0').cast(IntegerType()), \\\n",
        "    'DepDelay': regexp_replace('DepDelay', 'NA', '0').cast(IntegerType()), \\\n",
        "    'ActualElapsedTime': regexp_replace('ActualElapsedTime', 'NA', '0').cast(IntegerType()), \\\n",
        "    'AirTime': regexp_replace('AirTime', 'NA', '0').cast(IntegerType()), \\\n",
        "    'TaxiIn': regexp_replace('TaxiIn', 'NA', '0').cast(IntegerType()), \\\n",
        "    'TaxiOut': regexp_replace('TaxiOut', 'NA', '0').cast(IntegerType()), \\\n",
        "    'CarrierDelay': regexp_replace('CarrierDelay', 'NA', '0').cast(IntegerType()), \\\n",
        "    'WeatherDelay': regexp_replace('WeatherDelay', 'NA', '0').cast(IntegerType()), \\\n",
        "    'NASDelay': regexp_replace('NASDelay', 'NA', '0').cast(IntegerType()), \\\n",
        "    'SecurityDelay': regexp_replace('SecurityDelay', 'NA', '0').cast(IntegerType()), \\\n",
        "    'LateAircraftDelay': regexp_replace('LateAircraftDelay', 'NA', '0').cast(IntegerType()), \\\n",
        "    'DepTime': regexp_replace('DepTime', 'NA', '0').cast(IntegerType()), \\\n",
        "    'CRSElapsedTime': regexp_replace('CRSElapsedTime', 'NA', '0').cast(IntegerType()), \\\n",
        "    'ArrTime': regexp_replace('ArrTime', 'NA', '0').cast(IntegerType()), \\\n",
        "})"
      ]
    },
    {
      "cell_type": "code",
      "execution_count": 15,
      "metadata": {},
      "outputs": [
        {
          "name": "stderr",
          "output_type": "stream",
          "text": [
            "[Stage 492:=========================================>             (18 + 6) / 24]\r"
          ]
        },
        {
          "name": "stdout",
          "output_type": "stream",
          "text": [
            "+----------------+--------+\n",
            "|CancellationCode|   count|\n",
            "+----------------+--------+\n",
            "|             UNK|24667125|\n",
            "|               B|       2|\n",
            "|               A|       1|\n",
            "+----------------+--------+\n",
            "\n"
          ]
        },
        {
          "name": "stderr",
          "output_type": "stream",
          "text": [
            "                                                                                \r"
          ]
        }
      ],
      "source": [
        "df.where(df['Cancelled'] == 0).groupBy('CancellationCode').count().show()"
      ]
    },
    {
      "attachments": {},
      "cell_type": "markdown",
      "metadata": {},
      "source": [
        "It's observed that 3 flights that weren't cancelled have cancellation codes"
      ]
    },
    {
      "cell_type": "code",
      "execution_count": 49,
      "metadata": {},
      "outputs": [
        {
          "name": "stderr",
          "output_type": "stream",
          "text": [
            "[Stage 353:====================================================>  (23 + 1) / 24]\r"
          ]
        },
        {
          "name": "stdout",
          "output_type": "stream",
          "text": [
            "+-------+------------------+-----------------+-----------------+------------------+------------------+------------------+------------------+------------------+-------------+------------------+--------+-----------------+------------------+------------------+-----------------+-----------------+--------+--------+-----------------+------------------+------------------+--------------------+----------------+--------------------+------------------+------------------+------------------+--------------------+------------------+\n",
            "|summary|              year|            Month|       DayofMonth|         DayOfWeek|           DepTime|        CRSDepTime|           ArrTime|        CRSArrTime|UniqueCarrier|         FlightNum| TailNum|ActualElapsedTime|    CRSElapsedTime|           AirTime|         ArrDelay|         DepDelay|  Origin|    Dest|         Distance|            TaxiIn|           TaxiOut|           Cancelled|CancellationCode|            Diverted|      CarrierDelay|      WeatherDelay|          NASDelay|       SecurityDelay| LateAircraftDelay|\n",
            "+-------+------------------+-----------------+-----------------+------------------+------------------+------------------+------------------+------------------+-------------+------------------+--------+-----------------+------------------+------------------+-----------------+-----------------+--------+--------+-----------------+------------------+------------------+--------------------+----------------+--------------------+------------------+------------------+------------------+--------------------+------------------+\n",
            "|  count|          25173525|         25173525|         25173525|          25173525|          25173525|          25173525|          25173525|          25173525|     25173525|          25173525|25173525|         25173525|          25173525|          25173525|         25173525|         25173525|25173525|25173525|         25173525|          25173525|          25173525|            25173525|        25173525|            25173525|          25173525|          25173525|          25173525|            25173525|          25173525|\n",
            "|   mean| 2006.118930622549|5.927062419744553|15.71943091005332|3.9435508535256782|1314.6277134012817|1333.6417076670828|1454.2987496188953|1497.3441344428322|         null|2147.3249999751724|     0.0|123.0501024389711|126.86717533599287|100.34099312670752| 8.58570104901876|9.904067229361006|    null|    null|722.9802264482229| 7.106695625662278|  15.8631384758392|0.020116253087320905|            null|0.002171368531026...|3.4385646030899526|0.7112114413853443|3.6237746600843543|0.024210554540931396| 4.446311630969441|\n",
            "| stddev|1.0544378873486269|3.533172512418929|8.774905273444974|1.9898690255092581| 508.9183759753765|463.85356877965586| 543.4178405982166|480.39358043217584|         null|1940.5257381464185|     0.0|72.60825203003975| 70.04101348909168| 76.36868476279156|36.53563022350124|33.50743759984204|    null|    null|567.7229804165946|30.737968752986458|11.524640168307116| 0.14039797089729053|            null| 0.04654732834220832| 19.23934650882971| 8.926501517523803|15.633709026202563|  1.1049979395893677|19.613205028742858|\n",
            "|    min|              2004|                1|                1|                 1|                 0|                 0|                 0|                 0|           9E|                 1|       0|             -681|             -1240|             -2790|             -950|            -1200|     ABE|     ABE|               11|                 0|                 0|                   0|               A|                   0|                 0|                 0|               -49|                   0|                 0|\n",
            "|    max|              2008|               12|               31|                 7|              2930|              2359|              2955|              2400|           YV|              9741|  n816ca|             1879|              1435|              1958|             2598|             2601|     YUM|     YUM|             4962|              1523|              1439|                   1|             UNK|                   1|              2580|              1510|              1392|                 392|              1366|\n",
            "+-------+------------------+-----------------+-----------------+------------------+------------------+------------------+------------------+------------------+-------------+------------------+--------+-----------------+------------------+------------------+-----------------+-----------------+--------+--------+-----------------+------------------+------------------+--------------------+----------------+--------------------+------------------+------------------+------------------+--------------------+------------------+\n",
            "\n"
          ]
        },
        {
          "name": "stderr",
          "output_type": "stream",
          "text": [
            "                                                                                \r"
          ]
        }
      ],
      "source": [
        "df.describe().show()"
      ]
    },
    {
      "cell_type": "code",
      "execution_count": 17,
      "metadata": {},
      "outputs": [],
      "source": [
        "del cancelled_flights"
      ]
    },
    {
      "cell_type": "code",
      "execution_count": null,
      "metadata": {},
      "outputs": [
        {
          "name": "stderr",
          "output_type": "stream",
          "text": [
            "                                                                                \r"
          ]
        }
      ],
      "source": [
        "# write the cleaned dataframe to parquet format\n",
        "parquet_path = 'cleaned_data.parquet'\n",
        "\n",
        "df.write.parquet(parquet_path)\n",
        "\n",
        "spark.stop()"
      ]
    },
    {
      "attachments": {},
      "cell_type": "markdown",
      "metadata": {},
      "source": [
        "#### Adding columns."
      ]
    },
    {
      "cell_type": "code",
      "execution_count": 2,
      "metadata": {},
      "outputs": [],
      "source": [
        "df = spark.read.parquet(\"cleaned_data.parquet\")"
      ]
    },
    {
      "attachments": {},
      "cell_type": "markdown",
      "metadata": {},
      "source": [
        "##### Add column to indicate if flight was delayed or not"
      ]
    },
    {
      "cell_type": "code",
      "execution_count": 50,
      "metadata": {},
      "outputs": [],
      "source": [
        "def delayed(row):\n",
        "    return True if int(row) < 15 else False    \n",
        "\n",
        "delayedUDF = udf(lambda x:delayed(x))\n",
        "\n",
        "df = df.withColumn('OnTime', delayedUDF(col('ArrDelay')))"
      ]
    },
    {
      "cell_type": "code",
      "execution_count": 4,
      "metadata": {},
      "outputs": [
        {
          "name": "stdout",
          "output_type": "stream",
          "text": [
            "23/04/12 22:49:51 WARN package: Truncated the string representation of a plan since it was too large. This behavior can be adjusted by setting 'spark.sql.debug.maxToStringFields'.\n",
            "+----+-----+----------+---------+-------+----------+-------+----------+-------------+---------+-------+-----------------+--------------+-------+--------+--------+------+----+--------+------+-------+---------+----------------+--------+------------+------------+--------+-------------+-----------------+------+\n",
            "|year|Month|DayofMonth|DayOfWeek|DepTime|CRSDepTime|ArrTime|CRSArrTime|UniqueCarrier|FlightNum|TailNum|ActualElapsedTime|CRSElapsedTime|AirTime|ArrDelay|DepDelay|Origin|Dest|Distance|TaxiIn|TaxiOut|Cancelled|CancellationCode|Diverted|CarrierDelay|WeatherDelay|NASDelay|SecurityDelay|LateAircraftDelay|OnTime|\n",
            "+----+-----+----------+---------+-------+----------+-------+----------+-------------+---------+-------+-----------------+--------------+-------+--------+--------+------+----+--------+------+-------+---------+----------------+--------+------------+------------+--------+-------------+-----------------+------+\n",
            "|2005|    3|        27|        7|   1354|      1405|   2053|      2100|           UA|       32| N548UA|              299|           295|    285|      -7|     -11|   LIH| SFO|    2447|     6|      8|        0|             UNK|       0|           0|           0|       0|            0|                0|     1|\n",
            "|2005|    3|        28|        1|   1359|      1405|   2059|      2100|           UA|       32| N589UA|              300|           295|    286|      -1|      -6|   LIH| SFO|    2447|     5|      9|        0|             UNK|       0|           0|           0|       0|            0|                0|     1|\n",
            "|2005|    3|        29|        2|   1655|      1405|   2344|      2100|           UA|       32| N595UA|              289|           295|    278|     164|     170|   LIH| SFO|    2447|     4|      7|        0|             UNK|       0|         164|           0|       0|            0|                0|     0|\n",
            "|2005|    3|        30|        3|   1357|      1405|   2038|      2100|           UA|       32| N589UA|              281|           295|    270|     -22|      -8|   LIH| SFO|    2447|     7|      4|        0|             UNK|       0|           0|           0|       0|            0|                0|     1|\n",
            "|2005|    3|        31|        4|   1356|      1405|   2040|      2100|           UA|       32| N550UA|              284|           295|    271|     -20|      -9|   LIH| SFO|    2447|     4|      9|        0|             UNK|       0|           0|           0|       0|            0|                0|     1|\n",
            "+----+-----+----------+---------+-------+----------+-------+----------+-------------+---------+-------+-----------------+--------------+-------+--------+--------+------+----+--------+------+-------+---------+----------------+--------+------------+------------+--------+-------------+-----------------+------+\n",
            "only showing top 5 rows\n",
            "\n"
          ]
        }
      ],
      "source": [
        "df.show(5)"
      ]
    },
    {
      "attachments": {},
      "cell_type": "markdown",
      "metadata": {},
      "source": [
        "##### Export updated data for subsequent use"
      ]
    },
    {
      "cell_type": "code",
      "execution_count": 51,
      "metadata": {},
      "outputs": [
        {
          "name": "stderr",
          "output_type": "stream",
          "text": [
            "                                                                                \r"
          ]
        }
      ],
      "source": [
        "# write the cleaned dataframe to parquet format\n",
        "parquet_path = 'updated_data.parquet'\n",
        "\n",
        "df.write.parquet(parquet_path)\n",
        "\n",
        "spark.stop()"
      ]
    }
  ],
  "metadata": {
    "colab": {
      "provenance": []
    },
    "kernelspec": {
      "display_name": "Python 3",
      "name": "python3"
    },
    "language_info": {
      "codemirror_mode": {
        "name": "ipython",
        "version": 3
      },
      "file_extension": ".py",
      "mimetype": "text/x-python",
      "name": "python",
      "nbconvert_exporter": "python",
      "pygments_lexer": "ipython3",
      "version": "3.8.0"
    }
  },
  "nbformat": 4,
  "nbformat_minor": 0
}
